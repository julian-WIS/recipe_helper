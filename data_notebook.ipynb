{
 "cells": [
  {
   "cell_type": "code",
   "execution_count": 1,
   "id": "80108077",
   "metadata": {},
   "outputs": [],
   "source": [
    "import pandas as pd\n",
    "pd.set_option('display.max_colwidth', 200) "
   ]
  },
  {
   "cell_type": "code",
   "execution_count": 2,
   "id": "e531e6d7",
   "metadata": {},
   "outputs": [
    {
     "data": {
      "text/html": [
       "<div>\n",
       "<style scoped>\n",
       "    .dataframe tbody tr th:only-of-type {\n",
       "        vertical-align: middle;\n",
       "    }\n",
       "\n",
       "    .dataframe tbody tr th {\n",
       "        vertical-align: top;\n",
       "    }\n",
       "\n",
       "    .dataframe thead th {\n",
       "        text-align: right;\n",
       "    }\n",
       "</style>\n",
       "<table border=\"1\" class=\"dataframe\">\n",
       "  <thead>\n",
       "    <tr style=\"text-align: right;\">\n",
       "      <th></th>\n",
       "      <th>Title</th>\n",
       "      <th>Ingredients</th>\n",
       "      <th>Instructions</th>\n",
       "      <th>Image_Name</th>\n",
       "      <th>Cleaned_Ingredients</th>\n",
       "    </tr>\n",
       "  </thead>\n",
       "  <tbody>\n",
       "    <tr>\n",
       "      <th>0</th>\n",
       "      <td>Miso-Butter Roast Chicken With Acorn Squash Panzanella</td>\n",
       "      <td>['1 (3½–4-lb.) whole chicken', '2¾ tsp. kosher salt, divided, plus more', '2 small acorn squash (about 3 lb. total)', '2 Tbsp. finely chopped sage', '1 Tbsp. finely chopped rosemary', '6 Tbsp. uns...</td>\n",
       "      <td>Pat chicken dry with paper towels, season all over with 2 tsp. salt, and tie legs together with kitchen twine. Let sit at room temperature 1 hour.\\nMeanwhile, halve squash and scoop out seeds. Run...</td>\n",
       "      <td>miso-butter-roast-chicken-acorn-squash-panzanella</td>\n",
       "      <td>['1 (3½–4-lb.) whole chicken', '2¾ tsp. kosher salt, divided, plus more', '2 small acorn squash (about 3 lb. total)', '2 Tbsp. finely chopped sage', '1 Tbsp. finely chopped rosemary', '6 Tbsp. uns...</td>\n",
       "    </tr>\n",
       "    <tr>\n",
       "      <th>1</th>\n",
       "      <td>Crispy Salt and Pepper Potatoes</td>\n",
       "      <td>['2 large egg whites', '1 pound new potatoes (about 1 inch in diameter)', '2 teaspoons kosher salt', '¾ teaspoon finely ground black pepper', '1 teaspoon finely chopped rosemary', '1 teaspoon fine...</td>\n",
       "      <td>Preheat oven to 400°F and line a rimmed baking sheet with parchment. In a large bowl, whisk the egg whites until foamy (there shouldn’t be any liquid whites in the bowl). Add the potatoes and toss...</td>\n",
       "      <td>crispy-salt-and-pepper-potatoes-dan-kluger</td>\n",
       "      <td>['2 large egg whites', '1 pound new potatoes (about 1 inch in diameter)', '2 teaspoons kosher salt', '¾ teaspoon finely ground black pepper', '1 teaspoon finely chopped rosemary', '1 teaspoon fine...</td>\n",
       "    </tr>\n",
       "    <tr>\n",
       "      <th>2</th>\n",
       "      <td>Thanksgiving Mac and Cheese</td>\n",
       "      <td>['1 cup evaporated milk', '1 cup whole milk', '1 tsp. garlic powder', '1 tsp. onion powder', '1 tsp. smoked paprika', '½ tsp. freshly ground black pepper', '1 tsp. kosher salt, plus more', '2 lb. ...</td>\n",
       "      <td>Place a rack in middle of oven; preheat to 400°. Bring evaporated milk and whole milk to a bare simmer in a large saucepan over medium heat. Whisk in garlic powder, onion powder, paprika, pepper, ...</td>\n",
       "      <td>thanksgiving-mac-and-cheese-erick-williams</td>\n",
       "      <td>['1 cup evaporated milk', '1 cup whole milk', '1 tsp. garlic powder', '1 tsp. onion powder', '1 tsp. smoked paprika', '½ tsp. freshly ground black pepper', '1 tsp. kosher salt, plus more', '2 lb. ...</td>\n",
       "    </tr>\n",
       "    <tr>\n",
       "      <th>3</th>\n",
       "      <td>Italian Sausage and Bread Stuffing</td>\n",
       "      <td>['1 (¾- to 1-pound) round Italian loaf, cut into 1-inch cubes (8 cups)', '2 tablespoons olive oil, divided', '2 pounds sweet Italian sausage, casings removed, divided', '1 stick unsalted butter, c...</td>\n",
       "      <td>Preheat oven to 350°F with rack in middle. Generously butter baking dish.\\nPut bread in 2 shallow baking pans and bake, switching position of pans halfway through baking, until just dried out, abo...</td>\n",
       "      <td>italian-sausage-and-bread-stuffing-240559</td>\n",
       "      <td>['1 (¾- to 1-pound) round Italian loaf, cut into 1-inch cubes (8 cups)', '2 tablespoons olive oil, divided', '2 pounds sweet Italian sausage, casings removed, divided', '1 stick unsalted butter, c...</td>\n",
       "    </tr>\n",
       "    <tr>\n",
       "      <th>4</th>\n",
       "      <td>Newton's Law</td>\n",
       "      <td>['1 teaspoon dark brown sugar', '1 teaspoon hot water', '1 ½ oz. bourbon', '½ oz. fresh lemon juice', '2 teaspoons apple butter (storebought or homemade)', 'Garnish: orange twist and freshly grate...</td>\n",
       "      <td>Stir together brown sugar and hot water in a cocktail shaker to dissolve. Let cool, then add bourbon, lemon juice, and apple butter and fill with ice. Shake until well chilled, about 15 seconds. S...</td>\n",
       "      <td>newtons-law-apple-bourbon-cocktail</td>\n",
       "      <td>['1 teaspoon dark brown sugar', '1 teaspoon hot water', '1 ½ oz. bourbon', '½ oz. fresh lemon juice', '2 teaspoons apple butter (storebought or homemade)', 'Garnish: orange twist and freshly grate...</td>\n",
       "    </tr>\n",
       "  </tbody>\n",
       "</table>\n",
       "</div>"
      ],
      "text/plain": [
       "                                                    Title  \\\n",
       "0  Miso-Butter Roast Chicken With Acorn Squash Panzanella   \n",
       "1                         Crispy Salt and Pepper Potatoes   \n",
       "2                             Thanksgiving Mac and Cheese   \n",
       "3                      Italian Sausage and Bread Stuffing   \n",
       "4                                            Newton's Law   \n",
       "\n",
       "                                                                                                                                                                                               Ingredients  \\\n",
       "0  ['1 (3½–4-lb.) whole chicken', '2¾ tsp. kosher salt, divided, plus more', '2 small acorn squash (about 3 lb. total)', '2 Tbsp. finely chopped sage', '1 Tbsp. finely chopped rosemary', '6 Tbsp. uns...   \n",
       "1  ['2 large egg whites', '1 pound new potatoes (about 1 inch in diameter)', '2 teaspoons kosher salt', '¾ teaspoon finely ground black pepper', '1 teaspoon finely chopped rosemary', '1 teaspoon fine...   \n",
       "2  ['1 cup evaporated milk', '1 cup whole milk', '1 tsp. garlic powder', '1 tsp. onion powder', '1 tsp. smoked paprika', '½ tsp. freshly ground black pepper', '1 tsp. kosher salt, plus more', '2 lb. ...   \n",
       "3  ['1 (¾- to 1-pound) round Italian loaf, cut into 1-inch cubes (8 cups)', '2 tablespoons olive oil, divided', '2 pounds sweet Italian sausage, casings removed, divided', '1 stick unsalted butter, c...   \n",
       "4  ['1 teaspoon dark brown sugar', '1 teaspoon hot water', '1 ½ oz. bourbon', '½ oz. fresh lemon juice', '2 teaspoons apple butter (storebought or homemade)', 'Garnish: orange twist and freshly grate...   \n",
       "\n",
       "                                                                                                                                                                                              Instructions  \\\n",
       "0  Pat chicken dry with paper towels, season all over with 2 tsp. salt, and tie legs together with kitchen twine. Let sit at room temperature 1 hour.\\nMeanwhile, halve squash and scoop out seeds. Run...   \n",
       "1  Preheat oven to 400°F and line a rimmed baking sheet with parchment. In a large bowl, whisk the egg whites until foamy (there shouldn’t be any liquid whites in the bowl). Add the potatoes and toss...   \n",
       "2  Place a rack in middle of oven; preheat to 400°. Bring evaporated milk and whole milk to a bare simmer in a large saucepan over medium heat. Whisk in garlic powder, onion powder, paprika, pepper, ...   \n",
       "3  Preheat oven to 350°F with rack in middle. Generously butter baking dish.\\nPut bread in 2 shallow baking pans and bake, switching position of pans halfway through baking, until just dried out, abo...   \n",
       "4  Stir together brown sugar and hot water in a cocktail shaker to dissolve. Let cool, then add bourbon, lemon juice, and apple butter and fill with ice. Shake until well chilled, about 15 seconds. S...   \n",
       "\n",
       "                                          Image_Name  \\\n",
       "0  miso-butter-roast-chicken-acorn-squash-panzanella   \n",
       "1         crispy-salt-and-pepper-potatoes-dan-kluger   \n",
       "2         thanksgiving-mac-and-cheese-erick-williams   \n",
       "3          italian-sausage-and-bread-stuffing-240559   \n",
       "4                 newtons-law-apple-bourbon-cocktail   \n",
       "\n",
       "                                                                                                                                                                                       Cleaned_Ingredients  \n",
       "0  ['1 (3½–4-lb.) whole chicken', '2¾ tsp. kosher salt, divided, plus more', '2 small acorn squash (about 3 lb. total)', '2 Tbsp. finely chopped sage', '1 Tbsp. finely chopped rosemary', '6 Tbsp. uns...  \n",
       "1  ['2 large egg whites', '1 pound new potatoes (about 1 inch in diameter)', '2 teaspoons kosher salt', '¾ teaspoon finely ground black pepper', '1 teaspoon finely chopped rosemary', '1 teaspoon fine...  \n",
       "2  ['1 cup evaporated milk', '1 cup whole milk', '1 tsp. garlic powder', '1 tsp. onion powder', '1 tsp. smoked paprika', '½ tsp. freshly ground black pepper', '1 tsp. kosher salt, plus more', '2 lb. ...  \n",
       "3  ['1 (¾- to 1-pound) round Italian loaf, cut into 1-inch cubes (8 cups)', '2 tablespoons olive oil, divided', '2 pounds sweet Italian sausage, casings removed, divided', '1 stick unsalted butter, c...  \n",
       "4  ['1 teaspoon dark brown sugar', '1 teaspoon hot water', '1 ½ oz. bourbon', '½ oz. fresh lemon juice', '2 teaspoons apple butter (storebought or homemade)', 'Garnish: orange twist and freshly grate...  "
      ]
     },
     "execution_count": 2,
     "metadata": {},
     "output_type": "execute_result"
    }
   ],
   "source": [
    "df = pd.read_csv(\"data/recipes.csv\", index_col=0)\n",
    "\n",
    "df.head()\n"
   ]
  },
  {
   "cell_type": "code",
   "execution_count": 23,
   "id": "d2f08757",
   "metadata": {},
   "outputs": [
    {
     "data": {
      "text/plain": [
       "['[\\' chicken\\' \\' kosher salt more\\' \\' acorn squash \\' \\' sage\\' \\' rosemary\\' \\' unsalted buttermelted \\' \\' allspice\\' \\' red pepper flakes\\' \\'Freshly black pepper\\' \\' loaf good-quality sturdy white breadtorn \" \\' \\' apples coredcut \" \\' \\' extra-virgin olive oil\\' \\' red onion \\' \\' apple cider vinegar\\' \\' white miso\\' \\' all-purpose flour\\' \\' unsalted butter \\' \\' dry white wine\\' \\' unsalted chicken broth\\' \\' white miso\\' \\'Kosher salt\\' \\'freshly pepper\\']']"
      ]
     },
     "metadata": {},
     "output_type": "display_data"
    }
   ],
   "source": [
    "import re\n",
    "\n",
    "# Define common measurement words\n",
    "measurements = [\n",
    "    'teaspoon', 'teaspoons', 'tsp', 'tablespoon', 'tablespoons', 'tbsp',\n",
    "    'cup', 'cups', 'ounce', 'ounces', 'oz', 'pint', 'pints', 'quart', 'quarts',\n",
    "    'gallon', 'gallons', 'ml', 'l', 'liter', 'liters', 'gram', 'grams', 'g',\n",
    "    'kilogram', 'kilograms', 'kg', 'pound', 'pounds', 'lb', 'lbs', 'dash', 'pinch',\n",
    "    'package', 'packages', 'can', 'cans', 'bottle', 'bottles', 'slice', 'slices',\n",
    "    'stick', 'sticks', 'piece', 'pieces', 'whole', 'small', 'finely', 'chopped', 'meleted', 'plus',\n",
    "    'room', 'temperature', 'softened', 'divided', 'to', 'taste', 'optional' ,'large', 'medium', \n",
    "    'extra-large', 'thinly', 'sliced', 'fresh', 'ground', 'crushed', 'minced', 'grated', 'dried', \n",
    "    '½', '¼', '⅓', '¾', '⅔', '⅛', '. ', 'halved', 'lenghtwise', 'quartered', 'rinsed', 'drained', \n",
    "    'cooked', 'uncooked', 'frozen', 'thawed', 'packed', 'lightly', 'into', 'of',\n",
    "]\n",
    "\n",
    "def clean_ingredient(ingredient):\n",
    "    # Remove parenthesis content\n",
    "    ingredient = re.sub(r'\\([^)]*\\)', '', ingredient)\n",
    "    # Remove numbers and fractions\n",
    "    ingredient = re.sub(r'\\d+\\s?/\\s?\\d+|\\d+\\.\\d+|\\d+', '', ingredient)\n",
    "    # Remove measurement words (standalone or after numbers/fractions)\n",
    "    pattern = r'\\b(?:' + '|'.join(measurements) + r')\\b'\n",
    "    ingredient = re.sub(pattern, '', ingredient, flags=re.IGNORECASE)\n",
    "    # Remove extra spaces and commas\n",
    "    ingredient = re.sub(r'[,\\s]+', ' ', ingredient).strip()\n",
    "    return ingredient\n",
    "\n",
    "# Flatten the list if it's a list of one string with multiple ingredients separated by quotes or spaces\n",
    "def split_ingredients(lst):\n",
    "    if isinstance(lst, list) and len(lst) == 1 and isinstance(lst[0], str):\n",
    "        # Split by single quote and strip whitespace, filter out empty strings\n",
    "        items = [item.strip() for item in lst[0].split(\"'\") if item.strip()]\n",
    "        return [clean_ingredient(i) for i in items]\n",
    "    elif isinstance(lst, list):\n",
    "        return [clean_ingredient(i) for i in lst]\n",
    "    else:\n",
    "        return [clean_ingredient(lst)]\n",
    "\n",
    "df['ingred_cleaned'] = df['Cleaned_Ingredients'].apply(split_ingredients)\n",
    "\n",
    "display(df['ingred_cleaned'].iloc[0])\n"
   ]
  },
  {
   "cell_type": "code",
   "execution_count": 29,
   "id": "5b4c052d",
   "metadata": {},
   "outputs": [
    {
     "data": {
      "text/plain": [
       "'[\\' chicken\\' \\' kosher salt more\\' \\' acorn squash \\' \\' sage\\' \\' rosemary\\' \\' unsalted buttermelted \\' \\' allspice\\' \\' red pepper flakes\\' \\'Freshly black pepper\\' \\' loaf good-quality sturdy white breadtorn \" \\' \\' apples coredcut \" \\' \\' extra-virgin olive oil\\' \\' red onion \\' \\' apple cider vinegar\\' \\' white miso\\' \\' all-purpose flour\\' \\' unsalted butter \\' \\' dry white wine\\' \\' unsalted chicken broth\\' \\' white miso\\' \\'Kosher salt\\' \\'freshly pepper\\']'"
      ]
     },
     "execution_count": 29,
     "metadata": {},
     "output_type": "execute_result"
    }
   ],
   "source": [
    "df['ingred_cleaned'].iloc(0)[0][0]"
   ]
  },
  {
   "cell_type": "code",
   "execution_count": null,
   "id": "38dcef73",
   "metadata": {},
   "outputs": [],
   "source": [
    "df['ingred_cleaned'].head(60)"
   ]
  }
 ],
 "metadata": {
  "kernelspec": {
   "display_name": "recipe-helper (3.13.7)",
   "language": "python",
   "name": "python3"
  },
  "language_info": {
   "codemirror_mode": {
    "name": "ipython",
    "version": 3
   },
   "file_extension": ".py",
   "mimetype": "text/x-python",
   "name": "python",
   "nbconvert_exporter": "python",
   "pygments_lexer": "ipython3",
   "version": "3.13.7"
  }
 },
 "nbformat": 4,
 "nbformat_minor": 5
}
