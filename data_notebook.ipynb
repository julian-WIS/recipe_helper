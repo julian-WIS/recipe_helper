{
 "cells": [
  {
   "cell_type": "code",
   "execution_count": null,
   "id": "80108077",
   "metadata": {},
   "outputs": [],
   "source": [
    "import pandas as pd\n",
    "pd.set_option('display.max_colwidth', 200) "
   ]
  },
  {
   "cell_type": "code",
   "execution_count": null,
   "id": "e531e6d7",
   "metadata": {},
   "outputs": [],
   "source": [
    "df = pd.read_csv(\"data/recipes.csv\", index_col=0)\n",
    "\n",
    "df.head()\n"
   ]
  },
  {
   "cell_type": "code",
   "execution_count": null,
   "id": "d2f08757",
   "metadata": {},
   "outputs": [],
   "source": [
    "import re\n",
    "\n",
    "# Define common measurement words\n",
    "measurements = [\n",
    "    'teaspoon', 'teaspoons', 'tsp', 'tablespoon', 'tablespoons', 'tbsp',\n",
    "    'cup', 'cups', 'ounce', 'ounces', 'oz', 'pint', 'pints', 'quart', 'quarts',\n",
    "    'gallon', 'gallons', 'ml', 'l', 'liter', 'liters', 'gram', 'grams', 'g',\n",
    "    'kilogram', 'kilograms', 'kg', 'pound', 'pounds', 'lb', 'lbs', 'dash', 'pinch',\n",
    "    'package', 'packages', 'can', 'cans', 'bottle', 'bottles', 'slice', 'slices',\n",
    "    'stick', 'sticks', 'piece', 'pieces', 'whole', 'small', 'finely', 'chopped', 'meleted', 'plus',\n",
    "    'room', 'temperature', 'softened', 'divided', 'to', 'taste', 'optional' ,'large', 'medium', \n",
    "    'extra-large', 'thinly', 'sliced', 'fresh', 'ground', 'crushed', 'minced', 'grated', 'dried', \n",
    "    '½', '¼', '⅓', '¾', '⅔', '⅛', '. ', 'halved', 'lenghtwise', 'quartered', 'rinsed', 'drained', \n",
    "    'cooked', 'uncooked', 'frozen', 'thawed', 'packed', 'lightly', 'into', 'of',\n",
    "]\n",
    "\n",
    "def clean_ingredient(ingredient):\n",
    "    # Remove parenthesis content\n",
    "    ingredient = re.sub(r'\\([^)]*\\)', '', ingredient)\n",
    "    # Remove numbers and fractions\n",
    "    ingredient = re.sub(r'\\d+\\s?/\\s?\\d+|\\d+\\.\\d+|\\d+', '', ingredient)\n",
    "    # Remove measurement words (standalone or after numbers/fractions)\n",
    "    pattern = r'\\b(?:' + '|'.join(measurements) + r')\\b'\n",
    "    ingredient = re.sub(pattern, '', ingredient, flags=re.IGNORECASE)\n",
    "    # Remove extra spaces and commas\n",
    "    ingredient = re.sub(r'[,\\s]+', ' ', ingredient).strip()\n",
    "    return ingredient\n",
    "\n",
    "# Flatten the list if it's a list of one string with multiple ingredients separated by quotes or spaces\n",
    "def split_ingredients(lst):\n",
    "    if isinstance(lst, list) and len(lst) == 1 and isinstance(lst[0], str):\n",
    "        # Split by single quote and strip whitespace, filter out empty strings\n",
    "        items = [item.strip() for item in lst[0].split(\"'\") if item.strip()]\n",
    "        return [clean_ingredient(i) for i in items]\n",
    "    elif isinstance(lst, list):\n",
    "        return [clean_ingredient(i) for i in lst]\n",
    "    else:\n",
    "        return [clean_ingredient(lst)]\n",
    "\n",
    "df['ingred_cleaned'] = df['Cleaned_Ingredients'].apply(split_ingredients)\n",
    "\n",
    "display(df['ingred_cleaned'].iloc[0])\n"
   ]
  },
  {
   "cell_type": "code",
   "execution_count": null,
   "id": "5b4c052d",
   "metadata": {},
   "outputs": [],
   "source": [
    "df['ingred_cleaned'].iloc(0)[0][0]"
   ]
  },
  {
   "cell_type": "code",
   "execution_count": null,
   "id": "38dcef73",
   "metadata": {},
   "outputs": [],
   "source": [
    "df['ingred_cleaned'].head(60)"
   ]
  }
 ],
 "metadata": {
  "kernelspec": {
   "display_name": "recipe-helper (3.13.7)",
   "language": "python",
   "name": "python3"
  },
  "language_info": {
   "codemirror_mode": {
    "name": "ipython",
    "version": 3
   },
   "file_extension": ".py",
   "mimetype": "text/x-python",
   "name": "python",
   "nbconvert_exporter": "python",
   "pygments_lexer": "ipython3",
   "version": "3.13.7"
  }
 },
 "nbformat": 4,
 "nbformat_minor": 5
}
